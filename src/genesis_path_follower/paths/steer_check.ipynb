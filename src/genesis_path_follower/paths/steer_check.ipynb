{
 "cells": [
  {
   "cell_type": "code",
   "execution_count": 7,
   "metadata": {},
   "outputs": [],
   "source": [
    "import pandas as pd\n",
    "\n",
    "# Load the CSV file into a DataFrame\n",
    "file_path = '/home/nitish/Documents/catkin_ws_mpc/src/genesis_path_follower/paths/yawchange.csv'  # Replace with your file path\n",
    "df = pd.read_csv(file_path)\n"
   ]
  },
  {
   "cell_type": "code",
   "execution_count": 6,
   "metadata": {},
   "outputs": [
    {
     "name": "stdout",
     "output_type": "stream",
     "text": [
      "0     -0.189036\n",
      "1     -0.189036\n",
      "2     -0.189036\n",
      "3     -0.126024\n",
      "4     -0.126024\n",
      "         ...   \n",
      "652    0.315060\n",
      "653    0.315060\n",
      "654    0.315060\n",
      "655    0.252048\n",
      "656    0.252048\n",
      "Name: df, Length: 657, dtype: float64\n"
     ]
    }
   ],
   "source": [
    "df_column = df['df']\n",
    "import numpy as np\n",
    "\n",
    "# Convert the values from radians to degrees\n",
    "# df['df'] = np.degrees(df_column)\n",
    "df_column = np.degrees(df_column)\n",
    "print(max(df_column))"
   ]
  },
  {
   "cell_type": "code",
   "execution_count": 8,
   "metadata": {},
   "outputs": [
    {
     "name": "stdout",
     "output_type": "stream",
     "text": [
      "1.1342155009451658\n"
     ]
    }
   ],
   "source": [
    "print(max(df_column))"
   ]
  },
  {
   "cell_type": "code",
   "execution_count": null,
   "metadata": {},
   "outputs": [],
   "source": []
  }
 ],
 "metadata": {
  "kernelspec": {
   "display_name": "Python 3",
   "language": "python",
   "name": "python3"
  },
  "language_info": {
   "codemirror_mode": {
    "name": "ipython",
    "version": 3
   },
   "file_extension": ".py",
   "mimetype": "text/x-python",
   "name": "python",
   "nbconvert_exporter": "python",
   "pygments_lexer": "ipython3",
   "version": "3.8.10"
  }
 },
 "nbformat": 4,
 "nbformat_minor": 2
}
